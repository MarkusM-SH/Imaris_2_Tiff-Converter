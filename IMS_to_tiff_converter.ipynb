{
 "cells": [
  {
   "cell_type": "code",
   "execution_count": 13,
   "metadata": {},
   "outputs": [],
   "source": [
    "def get_axis_labels(shape):\n",
    "        axis_labels = ['T', 'C', 'Z', 'X', 'Y']\n",
    "        non_singular_axes = [axis_labels[i] for i in range(5) if shape[i] > 1]\n",
    "        return ''.join(non_singular_axes)"
   ]
  },
  {
   "cell_type": "code",
   "execution_count": null,
   "metadata": {},
   "outputs": [],
   "source": [
    "def convert_to_TZCXY(img): \n",
    "    a= img[:,:,:,:,:] \n",
    "    if get_axis_labels(img.shape) == 'TCZXY':\n",
    "        a =numpy.transpose(a, (0, 2, 1, 4, 3))    \n",
    "    elif get_axis_labels(img.shape) == 'TCXY':   \n",
    "        a = numpy.expand_dims(a, axis=(1))\n",
    "    elif get_axis_labels(img.shape) == 'TZXY':   \n",
    "        a = numpy.expand_dims(a, axis=(2))\n",
    "    elif get_axis_labels(img.shape) == 'CZXY':\n",
    "        a =numpy.transpose(a, (1,0,2,3))\n",
    "        a = numpy.expand_dims(a, axis=(0))\n",
    "    elif get_axis_labels(img.shape) == 'ZXY':\n",
    "        a = numpy.expand_dims(a, axis=(0,2)) \n",
    "    elif get_axis_labels(img.shape) == 'CXY':\n",
    "        a = numpy.expand_dims(a, axis=(0,1))\n",
    "    elif get_axis_labels(img.shape) == 'TXY':\n",
    "        a = numpy.expand_dims(a, axis=(1,2))\n",
    "    elif get_axis_labels(img.shape) == 'XY':\n",
    "        a = numpy.expand_dims(a, axis=(0,1,2))\n",
    "    return a  "
   ]
  },
  {
   "cell_type": "code",
   "execution_count": 3,
   "metadata": {},
   "outputs": [],
   "source": [
    "from imaris_ims_file_reader.ims import ims\n",
    "from imaris_ims_file_reader.ims_zarr_store import ims_zarr_store\n",
    "import numpy\n",
    "from  tifffile import imwrite\n",
    "import os"
   ]
  },
  {
   "cell_type": "code",
   "execution_count": 19,
   "metadata": {},
   "outputs": [
    {
     "name": "stdout",
     "output_type": "stream",
     "text": [
      "Opening readonly file: Test_image/240304_cc2d2aPCGCaMP5G_3dpf_mut1_BF_12per_100ms_t500ms_60rep_2024-03-04_11.43.09.ims \n",
      "\n",
      "Closing file: Test_image/two_colour_stack.ims \n",
      "\n",
      "(60, 1, 1, 2000, 2048)\n"
     ]
    }
   ],
   "source": [
    "img = ims('Test_image/240304_cc2d2aPCGCaMP5G_3dpf_mut1_BF_12per_100ms_t500ms_60rep_2024-03-04_11.43.09.ims')\n",
    "print(img.shape)"
   ]
  },
  {
   "cell_type": "code",
   "execution_count": 21,
   "metadata": {},
   "outputs": [],
   "source": [
    "imwrite(\n",
    "    'test_time.tif',\n",
    "    convert_to_TZCXY(img),\n",
    "    imagej=True,\n",
    "    resolution=tuple(1 / value for value in img.resolution[1:3]),\n",
    "    metadata={'axes': 'TZCYX',\n",
    "        'spacing': img.resolution[0],\n",
    "            'unit': 'um',}\n",
    ")"
   ]
  }
 ],
 "metadata": {
  "kernelspec": {
   "display_name": "ims_converter",
   "language": "python",
   "name": "python3"
  },
  "language_info": {
   "codemirror_mode": {
    "name": "ipython",
    "version": 3
   },
   "file_extension": ".py",
   "mimetype": "text/x-python",
   "name": "python",
   "nbconvert_exporter": "python",
   "pygments_lexer": "ipython3",
   "version": "3.9.18"
  }
 },
 "nbformat": 4,
 "nbformat_minor": 2
}
